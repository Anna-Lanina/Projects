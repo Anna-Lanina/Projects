version https://git-lfs.github.com/spec/v1
oid sha256:e6ca68437423efe109383ed7d3cb1a445a7f265e55490c61ed718a2ed1ff9c79
size 808485
