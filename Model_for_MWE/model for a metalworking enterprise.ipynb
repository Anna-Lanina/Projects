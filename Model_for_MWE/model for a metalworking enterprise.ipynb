version https://git-lfs.github.com/spec/v1
oid sha256:84c8d775a0a53d48d605f3d0b860cc802857942501562d811ca5b4edbb80cb48
size 1186925
