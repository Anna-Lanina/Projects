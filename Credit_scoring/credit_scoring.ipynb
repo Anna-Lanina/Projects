version https://git-lfs.github.com/spec/v1
oid sha256:f7d5eb48c1a79d094e5e79a88bfc427344a36cfc46aa5ee78c147201584a2ece
size 98106
