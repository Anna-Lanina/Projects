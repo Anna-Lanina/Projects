version https://git-lfs.github.com/spec/v1
oid sha256:80bf13c2826a518e5f1fa94faa93b0a1b0d4593f4ae33f896b93586aaf25ab39
size 1372649
