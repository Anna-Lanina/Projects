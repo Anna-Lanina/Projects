{
 "cells": [
  {
   "cell_type": "markdown",
   "metadata": {},
   "source": [
    "## Описание проекта\n",
    "\n",
    "Компания «Чётенькое такси» собрала исторические данные о заказах такси в аэропортах. Чтобы привлекать больше водителей в период пиковой нагрузки, нужно спрогнозировать количество заказов такси на следующий час. Постройте модель для такого предсказания.\n",
    "\n",
    "Значение метрики *RMSE* на тестовой выборке должно быть не больше 48.\n",
    "\n",
    "### Инструкция по выполнению проекта\n",
    "\n",
    "1. Загрузите данные и выполните их ресемплирование по одному часу.\n",
    "2. Проанализируйте данные.\n",
    "3. Обучите разные модели с различными гиперпараметрами. Сделайте тестовую выборку размером 10% от исходных данных.\n",
    "4. Проверьте данные на тестовой выборке и сделайте выводы.\n",
    "\n",
    "### Описание данных\n",
    "\n",
    "Данные лежат в файле `taxi.csv`. Количество заказов находится в столбце '*num_orders*' (от англ. *number of orders*, «число заказов»)."
   ]
  },
  {
   "cell_type": "markdown",
   "metadata": {},
   "source": [
    "# 1. Подготовка"
   ]
  },
  {
   "cell_type": "code",
   "execution_count": 1,
   "metadata": {},
   "outputs": [],
   "source": [
    "import pandas as pd\n",
    "from sklearn.model_selection import train_test_split\n",
    "from sklearn.linear_model import LinearRegression\n",
    "from sklearn.metrics import mean_squared_error\n",
    "from sklearn.preprocessing import StandardScaler\n",
    "import lightgbm as lgb\n",
    "from sklearn.ensemble import RandomForestRegressor\n",
    "from sklearn.tree import DecisionTreeRegressor\n",
    "from sklearn.model_selection import TimeSeriesSplit, GridSearchCV\n",
    "\n",
    "import numpy as np\n",
    "from warnings import simplefilter\n",
    "simplefilter(action='ignore', category=FutureWarning)\n",
    "from statsmodels.tsa.seasonal import seasonal_decompose\n",
    "import matplotlib.pyplot as plt"
   ]
  },
  {
   "cell_type": "code",
   "execution_count": 2,
   "metadata": {},
   "outputs": [],
   "source": [
    "taxi = pd.read_csv('/datasets/taxi.csv',  index_col=[0], parse_dates=[0])"
   ]
  },
  {
   "cell_type": "code",
   "execution_count": 3,
   "metadata": {},
   "outputs": [],
   "source": [
    "taxi.sort_index(inplace=True)\n",
    "taxi = taxi.resample('1H').sum()"
   ]
  },
  {
   "cell_type": "code",
   "execution_count": 4,
   "metadata": {},
   "outputs": [
    {
     "data": {
      "text/html": [
       "<div>\n",
       "<style scoped>\n",
       "    .dataframe tbody tr th:only-of-type {\n",
       "        vertical-align: middle;\n",
       "    }\n",
       "\n",
       "    .dataframe tbody tr th {\n",
       "        vertical-align: top;\n",
       "    }\n",
       "\n",
       "    .dataframe thead th {\n",
       "        text-align: right;\n",
       "    }\n",
       "</style>\n",
       "<table border=\"1\" class=\"dataframe\">\n",
       "  <thead>\n",
       "    <tr style=\"text-align: right;\">\n",
       "      <th></th>\n",
       "      <th>num_orders</th>\n",
       "    </tr>\n",
       "    <tr>\n",
       "      <th>datetime</th>\n",
       "      <th></th>\n",
       "    </tr>\n",
       "  </thead>\n",
       "  <tbody>\n",
       "    <tr>\n",
       "      <td>2018-03-01 00:00:00</td>\n",
       "      <td>124</td>\n",
       "    </tr>\n",
       "    <tr>\n",
       "      <td>2018-03-01 01:00:00</td>\n",
       "      <td>85</td>\n",
       "    </tr>\n",
       "    <tr>\n",
       "      <td>2018-03-01 02:00:00</td>\n",
       "      <td>71</td>\n",
       "    </tr>\n",
       "    <tr>\n",
       "      <td>2018-03-01 03:00:00</td>\n",
       "      <td>66</td>\n",
       "    </tr>\n",
       "    <tr>\n",
       "      <td>2018-03-01 04:00:00</td>\n",
       "      <td>43</td>\n",
       "    </tr>\n",
       "  </tbody>\n",
       "</table>\n",
       "</div>"
      ],
      "text/plain": [
       "                     num_orders\n",
       "datetime                       \n",
       "2018-03-01 00:00:00         124\n",
       "2018-03-01 01:00:00          85\n",
       "2018-03-01 02:00:00          71\n",
       "2018-03-01 03:00:00          66\n",
       "2018-03-01 04:00:00          43"
      ]
     },
     "execution_count": 4,
     "metadata": {},
     "output_type": "execute_result"
    }
   ],
   "source": [
    "taxi.head()"
   ]
  },
  {
   "cell_type": "markdown",
   "metadata": {},
   "source": [
    "Вывод: загрузили данные, провели ресемплирование по часу"
   ]
  },
  {
   "cell_type": "markdown",
   "metadata": {},
   "source": [
    "# 2. Анализ"
   ]
  },
  {
   "cell_type": "code",
   "execution_count": 5,
   "metadata": {},
   "outputs": [
    {
     "data": {
      "text/html": [
       "<div>\n",
       "<style scoped>\n",
       "    .dataframe tbody tr th:only-of-type {\n",
       "        vertical-align: middle;\n",
       "    }\n",
       "\n",
       "    .dataframe tbody tr th {\n",
       "        vertical-align: top;\n",
       "    }\n",
       "\n",
       "    .dataframe thead th {\n",
       "        text-align: right;\n",
       "    }\n",
       "</style>\n",
       "<table border=\"1\" class=\"dataframe\">\n",
       "  <thead>\n",
       "    <tr style=\"text-align: right;\">\n",
       "      <th></th>\n",
       "      <th>num_orders</th>\n",
       "    </tr>\n",
       "    <tr>\n",
       "      <th>datetime</th>\n",
       "      <th></th>\n",
       "    </tr>\n",
       "  </thead>\n",
       "  <tbody>\n",
       "    <tr>\n",
       "      <td>2018-03-01 00:00:00</td>\n",
       "      <td>124</td>\n",
       "    </tr>\n",
       "    <tr>\n",
       "      <td>2018-03-01 01:00:00</td>\n",
       "      <td>85</td>\n",
       "    </tr>\n",
       "    <tr>\n",
       "      <td>2018-03-01 02:00:00</td>\n",
       "      <td>71</td>\n",
       "    </tr>\n",
       "    <tr>\n",
       "      <td>2018-03-01 03:00:00</td>\n",
       "      <td>66</td>\n",
       "    </tr>\n",
       "    <tr>\n",
       "      <td>2018-03-01 04:00:00</td>\n",
       "      <td>43</td>\n",
       "    </tr>\n",
       "  </tbody>\n",
       "</table>\n",
       "</div>"
      ],
      "text/plain": [
       "                     num_orders\n",
       "datetime                       \n",
       "2018-03-01 00:00:00         124\n",
       "2018-03-01 01:00:00          85\n",
       "2018-03-01 02:00:00          71\n",
       "2018-03-01 03:00:00          66\n",
       "2018-03-01 04:00:00          43"
      ]
     },
     "execution_count": 5,
     "metadata": {},
     "output_type": "execute_result"
    }
   ],
   "source": [
    "taxi.head()"
   ]
  },
  {
   "cell_type": "code",
   "execution_count": 6,
   "metadata": {},
   "outputs": [
    {
     "data": {
      "text/html": [
       "<div>\n",
       "<style scoped>\n",
       "    .dataframe tbody tr th:only-of-type {\n",
       "        vertical-align: middle;\n",
       "    }\n",
       "\n",
       "    .dataframe tbody tr th {\n",
       "        vertical-align: top;\n",
       "    }\n",
       "\n",
       "    .dataframe thead th {\n",
       "        text-align: right;\n",
       "    }\n",
       "</style>\n",
       "<table border=\"1\" class=\"dataframe\">\n",
       "  <thead>\n",
       "    <tr style=\"text-align: right;\">\n",
       "      <th></th>\n",
       "      <th>num_orders</th>\n",
       "    </tr>\n",
       "    <tr>\n",
       "      <th>datetime</th>\n",
       "      <th></th>\n",
       "    </tr>\n",
       "  </thead>\n",
       "  <tbody>\n",
       "    <tr>\n",
       "      <td>2018-08-31 19:00:00</td>\n",
       "      <td>136</td>\n",
       "    </tr>\n",
       "    <tr>\n",
       "      <td>2018-08-31 20:00:00</td>\n",
       "      <td>154</td>\n",
       "    </tr>\n",
       "    <tr>\n",
       "      <td>2018-08-31 21:00:00</td>\n",
       "      <td>159</td>\n",
       "    </tr>\n",
       "    <tr>\n",
       "      <td>2018-08-31 22:00:00</td>\n",
       "      <td>223</td>\n",
       "    </tr>\n",
       "    <tr>\n",
       "      <td>2018-08-31 23:00:00</td>\n",
       "      <td>205</td>\n",
       "    </tr>\n",
       "  </tbody>\n",
       "</table>\n",
       "</div>"
      ],
      "text/plain": [
       "                     num_orders\n",
       "datetime                       \n",
       "2018-08-31 19:00:00         136\n",
       "2018-08-31 20:00:00         154\n",
       "2018-08-31 21:00:00         159\n",
       "2018-08-31 22:00:00         223\n",
       "2018-08-31 23:00:00         205"
      ]
     },
     "execution_count": 6,
     "metadata": {},
     "output_type": "execute_result"
    }
   ],
   "source": [
    "taxi.tail()"
   ]
  },
  {
   "cell_type": "code",
   "execution_count": 7,
   "metadata": {},
   "outputs": [
    {
     "data": {
      "text/html": [
       "<div>\n",
       "<style scoped>\n",
       "    .dataframe tbody tr th:only-of-type {\n",
       "        vertical-align: middle;\n",
       "    }\n",
       "\n",
       "    .dataframe tbody tr th {\n",
       "        vertical-align: top;\n",
       "    }\n",
       "\n",
       "    .dataframe thead th {\n",
       "        text-align: right;\n",
       "    }\n",
       "</style>\n",
       "<table border=\"1\" class=\"dataframe\">\n",
       "  <thead>\n",
       "    <tr style=\"text-align: right;\">\n",
       "      <th></th>\n",
       "      <th>num_orders</th>\n",
       "    </tr>\n",
       "    <tr>\n",
       "      <th>datetime</th>\n",
       "      <th></th>\n",
       "    </tr>\n",
       "  </thead>\n",
       "  <tbody>\n",
       "    <tr>\n",
       "      <td>2018-05-20 20:00:00</td>\n",
       "      <td>74</td>\n",
       "    </tr>\n",
       "    <tr>\n",
       "      <td>2018-07-13 02:00:00</td>\n",
       "      <td>153</td>\n",
       "    </tr>\n",
       "    <tr>\n",
       "      <td>2018-03-12 08:00:00</td>\n",
       "      <td>75</td>\n",
       "    </tr>\n",
       "    <tr>\n",
       "      <td>2018-06-19 23:00:00</td>\n",
       "      <td>86</td>\n",
       "    </tr>\n",
       "    <tr>\n",
       "      <td>2018-08-31 05:00:00</td>\n",
       "      <td>78</td>\n",
       "    </tr>\n",
       "  </tbody>\n",
       "</table>\n",
       "</div>"
      ],
      "text/plain": [
       "                     num_orders\n",
       "datetime                       \n",
       "2018-05-20 20:00:00          74\n",
       "2018-07-13 02:00:00         153\n",
       "2018-03-12 08:00:00          75\n",
       "2018-06-19 23:00:00          86\n",
       "2018-08-31 05:00:00          78"
      ]
     },
     "execution_count": 7,
     "metadata": {},
     "output_type": "execute_result"
    }
   ],
   "source": [
    "taxi.sample(5)"
   ]
  },
  {
   "cell_type": "code",
   "execution_count": 8,
   "metadata": {},
   "outputs": [
    {
     "name": "stdout",
     "output_type": "stream",
     "text": [
      "<class 'pandas.core.frame.DataFrame'>\n",
      "DatetimeIndex: 4416 entries, 2018-03-01 00:00:00 to 2018-08-31 23:00:00\n",
      "Freq: H\n",
      "Data columns (total 1 columns):\n",
      "num_orders    4416 non-null int64\n",
      "dtypes: int64(1)\n",
      "memory usage: 69.0 KB\n"
     ]
    }
   ],
   "source": [
    "taxi.info()"
   ]
  },
  {
   "cell_type": "code",
   "execution_count": 9,
   "metadata": {},
   "outputs": [
    {
     "data": {
      "text/html": [
       "<div>\n",
       "<style scoped>\n",
       "    .dataframe tbody tr th:only-of-type {\n",
       "        vertical-align: middle;\n",
       "    }\n",
       "\n",
       "    .dataframe tbody tr th {\n",
       "        vertical-align: top;\n",
       "    }\n",
       "\n",
       "    .dataframe thead th {\n",
       "        text-align: right;\n",
       "    }\n",
       "</style>\n",
       "<table border=\"1\" class=\"dataframe\">\n",
       "  <thead>\n",
       "    <tr style=\"text-align: right;\">\n",
       "      <th></th>\n",
       "      <th>num_orders</th>\n",
       "    </tr>\n",
       "  </thead>\n",
       "  <tbody>\n",
       "    <tr>\n",
       "      <td>count</td>\n",
       "      <td>4416.000000</td>\n",
       "    </tr>\n",
       "    <tr>\n",
       "      <td>mean</td>\n",
       "      <td>84.422781</td>\n",
       "    </tr>\n",
       "    <tr>\n",
       "      <td>std</td>\n",
       "      <td>45.023853</td>\n",
       "    </tr>\n",
       "    <tr>\n",
       "      <td>min</td>\n",
       "      <td>0.000000</td>\n",
       "    </tr>\n",
       "    <tr>\n",
       "      <td>25%</td>\n",
       "      <td>54.000000</td>\n",
       "    </tr>\n",
       "    <tr>\n",
       "      <td>50%</td>\n",
       "      <td>78.000000</td>\n",
       "    </tr>\n",
       "    <tr>\n",
       "      <td>75%</td>\n",
       "      <td>107.000000</td>\n",
       "    </tr>\n",
       "    <tr>\n",
       "      <td>max</td>\n",
       "      <td>462.000000</td>\n",
       "    </tr>\n",
       "  </tbody>\n",
       "</table>\n",
       "</div>"
      ],
      "text/plain": [
       "        num_orders\n",
       "count  4416.000000\n",
       "mean     84.422781\n",
       "std      45.023853\n",
       "min       0.000000\n",
       "25%      54.000000\n",
       "50%      78.000000\n",
       "75%     107.000000\n",
       "max     462.000000"
      ]
     },
     "execution_count": 9,
     "metadata": {},
     "output_type": "execute_result"
    }
   ],
   "source": [
    "taxi.describe()"
   ]
  },
  {
   "cell_type": "code",
   "execution_count": 10,
   "metadata": {},
   "outputs": [
    {
     "data": {
      "text/plain": [
       "4165"
      ]
     },
     "execution_count": 10,
     "metadata": {},
     "output_type": "execute_result"
    }
   ],
   "source": [
    "taxi.duplicated().sum()"
   ]
  },
  {
   "cell_type": "code",
   "execution_count": 11,
   "metadata": {},
   "outputs": [
    {
     "data": {
      "text/plain": [
       "num_orders    0\n",
       "dtype: int64"
      ]
     },
     "execution_count": 11,
     "metadata": {},
     "output_type": "execute_result"
    }
   ],
   "source": [
    "taxi.isnull().sum()"
   ]
  },
  {
   "cell_type": "markdown",
   "metadata": {},
   "source": [
    "Виртуализируем временной ряд:"
   ]
  },
  {
   "cell_type": "code",
   "execution_count": 12,
   "metadata": {},
   "outputs": [
    {
     "data": {
      "text/plain": [
       "<matplotlib.axes._subplots.AxesSubplot at 0x7f52eafd5a10>"
      ]
     },
     "execution_count": 12,
     "metadata": {},
     "output_type": "execute_result"
    },
    {
     "data": {
      "image/png": "[encoded data removed]",
      "text/plain": [
       "<Figure size 432x288 with 1 Axes>"
      ]
     },
     "metadata": {
      "needs_background": "light"
     },
     "output_type": "display_data"
    }
   ],
   "source": [
    "taxi.plot()"
   ]
  },
  {
   "cell_type": "markdown",
   "metadata": {},
   "source": [
    "Построим график сезонности:"
   ]
  },
  {
   "cell_type": "code",
   "execution_count": 13,
   "metadata": {},
   "outputs": [
    {
     "data": {
      "image/png": "[encoded data removed]",
      "text/plain": [
       "<Figure size 432x576 with 3 Axes>"
      ]
     },
     "metadata": {
      "needs_background": "light"
     },
     "output_type": "display_data"
    }
   ],
   "source": [
    "decomposed = seasonal_decompose(taxi)\n",
    "\n",
    "plt.figure(figsize=(6, 8))\n",
    "plt.subplot(311)\n",
    "\n",
    "decomposed.trend.plot(ax=plt.gca())\n",
    "plt.title('Trend')\n",
    "plt.subplot(312)\n",
    "decomposed.seasonal['2018-03-01':'2018-03-15'].plot(ax=plt.gca())\n",
    "plt.title('Seasonality')\n",
    "plt.subplot(313)\n",
    "decomposed.resid.plot(ax=plt.gca())\n",
    "plt.title('Residuals')\n",
    "plt.tight_layout()"
   ]
  },
  {
   "cell_type": "markdown",
   "metadata": {},
   "source": [
    "Вывод: \n",
    "\n",
    "1. пропусков не обнаружено\n",
    "\n",
    "2. датасет составляют 2 столбца - время и число заказов"
   ]
  },
  {
   "cell_type": "markdown",
   "metadata": {},
   "source": [
    "# 3. Обучение"
   ]
  },
  {
   "cell_type": "markdown",
   "metadata": {},
   "source": [
    "Сейчас у нас есть только целевой признак - число заказов и время заказа. Выведем признаки из столбца со временем заказа."
   ]
  },
  {
   "cell_type": "code",
   "execution_count": 14,
   "metadata": {},
   "outputs": [
    {
     "data": {
      "text/html": [
       "<div>\n",
       "<style scoped>\n",
       "    .dataframe tbody tr th:only-of-type {\n",
       "        vertical-align: middle;\n",
       "    }\n",
       "\n",
       "    .dataframe tbody tr th {\n",
       "        vertical-align: top;\n",
       "    }\n",
       "\n",
       "    .dataframe thead th {\n",
       "        text-align: right;\n",
       "    }\n",
       "</style>\n",
       "<table border=\"1\" class=\"dataframe\">\n",
       "  <thead>\n",
       "    <tr style=\"text-align: right;\">\n",
       "      <th></th>\n",
       "      <th>num_orders</th>\n",
       "    </tr>\n",
       "    <tr>\n",
       "      <th>datetime</th>\n",
       "      <th></th>\n",
       "    </tr>\n",
       "  </thead>\n",
       "  <tbody>\n",
       "    <tr>\n",
       "      <td>2018-03-01 00:00:00</td>\n",
       "      <td>124</td>\n",
       "    </tr>\n",
       "    <tr>\n",
       "      <td>2018-03-01 01:00:00</td>\n",
       "      <td>85</td>\n",
       "    </tr>\n",
       "    <tr>\n",
       "      <td>2018-03-01 02:00:00</td>\n",
       "      <td>71</td>\n",
       "    </tr>\n",
       "    <tr>\n",
       "      <td>2018-03-01 03:00:00</td>\n",
       "      <td>66</td>\n",
       "    </tr>\n",
       "    <tr>\n",
       "      <td>2018-03-01 04:00:00</td>\n",
       "      <td>43</td>\n",
       "    </tr>\n",
       "    <tr>\n",
       "      <td>...</td>\n",
       "      <td>...</td>\n",
       "    </tr>\n",
       "    <tr>\n",
       "      <td>2018-08-31 19:00:00</td>\n",
       "      <td>136</td>\n",
       "    </tr>\n",
       "    <tr>\n",
       "      <td>2018-08-31 20:00:00</td>\n",
       "      <td>154</td>\n",
       "    </tr>\n",
       "    <tr>\n",
       "      <td>2018-08-31 21:00:00</td>\n",
       "      <td>159</td>\n",
       "    </tr>\n",
       "    <tr>\n",
       "      <td>2018-08-31 22:00:00</td>\n",
       "      <td>223</td>\n",
       "    </tr>\n",
       "    <tr>\n",
       "      <td>2018-08-31 23:00:00</td>\n",
       "      <td>205</td>\n",
       "    </tr>\n",
       "  </tbody>\n",
       "</table>\n",
       "<p>4416 rows × 1 columns</p>\n",
       "</div>"
      ],
      "text/plain": [
       "                     num_orders\n",
       "datetime                       \n",
       "2018-03-01 00:00:00         124\n",
       "2018-03-01 01:00:00          85\n",
       "2018-03-01 02:00:00          71\n",
       "2018-03-01 03:00:00          66\n",
       "2018-03-01 04:00:00          43\n",
       "...                         ...\n",
       "2018-08-31 19:00:00         136\n",
       "2018-08-31 20:00:00         154\n",
       "2018-08-31 21:00:00         159\n",
       "2018-08-31 22:00:00         223\n",
       "2018-08-31 23:00:00         205\n",
       "\n",
       "[4416 rows x 1 columns]"
      ]
     },
     "execution_count": 14,
     "metadata": {},
     "output_type": "execute_result"
    }
   ],
   "source": [
    "taxi"
   ]
  },
  {
   "cell_type": "code",
   "execution_count": 15,
   "metadata": {},
   "outputs": [
    {
     "name": "stdout",
     "output_type": "stream",
     "text": [
      "                     num_orders  year  month  day  dayofweek  lag_1  lag_2  \\\n",
      "datetime                                                                     \n",
      "2018-03-01 00:00:00         124  2018      3    1          3    NaN    NaN   \n",
      "2018-03-01 01:00:00          85  2018      3    1          3  124.0    NaN   \n",
      "2018-03-01 02:00:00          71  2018      3    1          3   85.0  124.0   \n",
      "2018-03-01 03:00:00          66  2018      3    1          3   71.0   85.0   \n",
      "2018-03-01 04:00:00          43  2018      3    1          3   66.0   71.0   \n",
      "\n",
      "                     lag_3  lag_4  rolling_mean  \n",
      "datetime                                         \n",
      "2018-03-01 00:00:00    NaN    NaN           NaN  \n",
      "2018-03-01 01:00:00    NaN    NaN           NaN  \n",
      "2018-03-01 02:00:00    NaN    NaN           NaN  \n",
      "2018-03-01 03:00:00  124.0    NaN           NaN  \n",
      "2018-03-01 04:00:00   85.0  124.0          86.5  \n"
     ]
    }
   ],
   "source": [
    "def make_features(taxi, max_lag, rolling_mean_size):\n",
    "    taxi['year'] = taxi.index.year\n",
    "    taxi['month'] = taxi.index.month\n",
    "    taxi['day'] = taxi.index.day\n",
    "    taxi['dayofweek'] = taxi.index.dayofweek\n",
    "    \n",
    "    for lag in range(1, max_lag + 1):\n",
    "        taxi['lag_{}'.format(lag)] = taxi['num_orders'].shift(lag)\n",
    "        \n",
    "    taxi['rolling_mean'] = taxi['num_orders'].shift().rolling(rolling_mean_size).mean()\n",
    "\n",
    "make_features(taxi, 4, 4)\n",
    "print(taxi.head())"
   ]
  },
  {
   "cell_type": "code",
   "execution_count": 16,
   "metadata": {},
   "outputs": [],
   "source": [
    "taxi.columns \n",
    "taxi = taxi.dropna()\n",
    "\n",
    "train, test = train_test_split(taxi, test_size=0.1, random_state=42)\n",
    "\n",
    "y_train = train['num_orders']\n",
    "X_train = train.drop(['num_orders'], axis = 1) \n",
    "\n",
    "y_test = test['num_orders']\n",
    "X_test = test.drop(['num_orders'], axis = 1) "
   ]
  },
  {
   "cell_type": "markdown",
   "metadata": {},
   "source": [
    "Обучим различные модели машинного обучения:\n",
    "\n",
    "1. Дерево решений"
   ]
  },
  {
   "cell_type": "code",
   "execution_count": 17,
   "metadata": {},
   "outputs": [
    {
     "data": {
      "text/plain": [
       "GridSearchCV(cv=TimeSeriesSplit(max_train_size=None, n_splits=2),\n",
       "             error_score='raise-deprecating',\n",
       "             estimator=DecisionTreeRegressor(criterion='mse', max_depth=None,\n",
       "                                             max_features=None,\n",
       "                                             max_leaf_nodes=None,\n",
       "                                             min_impurity_decrease=0.0,\n",
       "                                             min_impurity_split=None,\n",
       "                                             min_samples_leaf=1,\n",
       "                                             min_samples_split=2,\n",
       "                                             min_weight_fraction_leaf=0.0,\n",
       "                                             presort=False, random_state=0,\n",
       "                                             splitter='best'),\n",
       "             iid='warn', n_jobs=None,\n",
       "             param_grid={'max_depth': range(1, 7, 2),\n",
       "                         'min_samples_leaf': range(1, 8),\n",
       "                         'min_samples_split': range(2, 10, 2)},\n",
       "             pre_dispatch='2*n_jobs', refit=True, return_train_score=False,\n",
       "             scoring=None, verbose=0)"
      ]
     },
     "execution_count": 17,
     "metadata": {},
     "output_type": "execute_result"
    }
   ],
   "source": [
    "decision_tree_regression = DecisionTreeRegressor(random_state=0)\n",
    "parametrs = { 'max_depth': range (1,7, 2),\n",
    "              'min_samples_leaf': range (1,8),\n",
    "              'min_samples_split': range (2,10,2) }\n",
    "\n",
    "tscv = TimeSeriesSplit(n_splits=2)\n",
    "\n",
    "grid_decision_tree_regression = GridSearchCV(decision_tree_regression, parametrs, cv=tscv)\n",
    "grid_decision_tree_regression.fit(X_train, y_train)"
   ]
  },
  {
   "cell_type": "code",
   "execution_count": 18,
   "metadata": {},
   "outputs": [
    {
     "name": "stdout",
     "output_type": "stream",
     "text": [
      " rmse 32.12581129565478\n"
     ]
    }
   ],
   "source": [
    "grid_decision_tree_regression.best_params_\n",
    "\n",
    "predictions_train = grid_decision_tree_regression.predict(X_train)\n",
    "print( \" rmse\" , mean_squared_error(y_train, predictions_train)**.5)"
   ]
  },
  {
   "cell_type": "markdown",
   "metadata": {},
   "source": [
    "2. Случайный лес"
   ]
  },
  {
   "cell_type": "code",
   "execution_count": 19,
   "metadata": {},
   "outputs": [
    {
     "data": {
      "text/plain": [
       "GridSearchCV(cv=TimeSeriesSplit(max_train_size=None, n_splits=2),\n",
       "             error_score='raise-deprecating',\n",
       "             estimator=RandomForestRegressor(bootstrap=True, criterion='mse',\n",
       "                                             max_depth=None,\n",
       "                                             max_features='auto',\n",
       "                                             max_leaf_nodes=None,\n",
       "                                             min_impurity_decrease=0.0,\n",
       "                                             min_impurity_split=None,\n",
       "                                             min_samples_leaf=1,\n",
       "                                             min_samples_split=2,\n",
       "                                             min_weight_fraction_leaf=0.0,\n",
       "                                             n_estimators='warn', n_jobs=None,\n",
       "                                             oob_score=False,\n",
       "                                             random_state=12345, verbose=0,\n",
       "                                             warm_start=False),\n",
       "             iid='warn', n_jobs=None,\n",
       "             param_grid={'max_depth': range(1, 8),\n",
       "                         'min_samples_leaf': range(1, 5)},\n",
       "             pre_dispatch='2*n_jobs', refit=True, return_train_score=False,\n",
       "             scoring=None, verbose=0)"
      ]
     },
     "execution_count": 19,
     "metadata": {},
     "output_type": "execute_result"
    }
   ],
   "source": [
    "from sklearn.ensemble import RandomForestRegressor\n",
    "from sklearn.model_selection import GridSearchCV\n",
    "\n",
    "model_forest_regression= RandomForestRegressor(random_state=12345)\n",
    "\n",
    "parametrs = {'max_depth': range (1,8),\n",
    "              'min_samples_leaf': range (1,5)}\n",
    "\n",
    "tscv = TimeSeriesSplit(n_splits=2)\n",
    "\n",
    "grid_forest_regression = GridSearchCV(model_forest_regression, parametrs, cv=tscv)\n",
    "grid_forest_regression.fit(X_train, y_train)"
   ]
  },
  {
   "cell_type": "code",
   "execution_count": 20,
   "metadata": {},
   "outputs": [
    {
     "name": "stdout",
     "output_type": "stream",
     "text": [
      " rmse 31.07504172024312\n"
     ]
    }
   ],
   "source": [
    "grid_forest_regression.best_params_\n",
    "\n",
    "predictions_train = grid_forest_regression.predict(X_train)\n",
    "print( \" rmse\" , mean_squared_error(y_train, predictions_train)**.5)"
   ]
  },
  {
   "cell_type": "markdown",
   "metadata": {},
   "source": [
    "3. Линейная регрессия"
   ]
  },
  {
   "cell_type": "code",
   "execution_count": 21,
   "metadata": {},
   "outputs": [
    {
     "name": "stdout",
     "output_type": "stream",
     "text": [
      " rmse на тренировочной выборке  33.424999384069544\n"
     ]
    }
   ],
   "source": [
    "linear_model = LinearRegression(fit_intercept=True, normalize=False, copy_X=True, n_jobs=None)\n",
    "linear_model.fit(X_train, y_train)\n",
    "predictions_train = linear_model.predict(X_train)\n",
    "print( \" rmse на тренировочной выборке \" , mean_squared_error(y_train, predictions_train)**.5)"
   ]
  },
  {
   "cell_type": "markdown",
   "metadata": {},
   "source": [
    "4. Catboost"
   ]
  },
  {
   "cell_type": "code",
   "execution_count": 22,
   "metadata": {},
   "outputs": [
    {
     "name": "stdout",
     "output_type": "stream",
     "text": [
      "0:\tlearn: 43.0287636\ttotal: 52.2ms\tremaining: 52.1s\n",
      "10:\tlearn: 34.2493909\ttotal: 658ms\tremaining: 59.1s\n",
      "20:\tlearn: 31.3993267\ttotal: 1.18s\tremaining: 54.8s\n",
      "30:\tlearn: 29.7700347\ttotal: 1.76s\tremaining: 55s\n",
      "40:\tlearn: 28.7528442\ttotal: 2.43s\tremaining: 56.9s\n",
      "50:\tlearn: 27.9944353\ttotal: 3.03s\tremaining: 56.3s\n",
      "60:\tlearn: 27.4002302\ttotal: 3.61s\tremaining: 55.6s\n",
      "70:\tlearn: 26.7789176\ttotal: 4.2s\tremaining: 55s\n",
      "80:\tlearn: 26.0994758\ttotal: 4.82s\tremaining: 54.7s\n",
      "90:\tlearn: 25.5243765\ttotal: 5.51s\tremaining: 55s\n",
      "100:\tlearn: 25.1284607\ttotal: 6.09s\tremaining: 54.2s\n",
      "110:\tlearn: 24.8000064\ttotal: 6.58s\tremaining: 52.7s\n",
      "120:\tlearn: 24.3227934\ttotal: 7.19s\tremaining: 52.2s\n",
      "130:\tlearn: 23.9115121\ttotal: 7.77s\tremaining: 51.5s\n",
      "140:\tlearn: 23.3673488\ttotal: 8.36s\tremaining: 50.9s\n",
      "150:\tlearn: 22.7920214\ttotal: 8.95s\tremaining: 50.3s\n",
      "160:\tlearn: 22.2998671\ttotal: 9.64s\tremaining: 50.2s\n",
      "170:\tlearn: 21.8535574\ttotal: 10.2s\tremaining: 49.6s\n",
      "180:\tlearn: 21.2354906\ttotal: 10.7s\tremaining: 48.6s\n",
      "190:\tlearn: 20.8377323\ttotal: 11.3s\tremaining: 48s\n",
      "200:\tlearn: 20.3415510\ttotal: 12s\tremaining: 47.8s\n",
      "210:\tlearn: 19.9238134\ttotal: 12.6s\tremaining: 47.1s\n",
      "220:\tlearn: 19.4339858\ttotal: 13.2s\tremaining: 46.4s\n",
      "230:\tlearn: 19.0276140\ttotal: 13.8s\tremaining: 45.8s\n",
      "240:\tlearn: 18.6442627\ttotal: 14.3s\tremaining: 45s\n",
      "250:\tlearn: 18.3293168\ttotal: 15s\tremaining: 44.6s\n",
      "260:\tlearn: 17.9417089\ttotal: 15.6s\tremaining: 44s\n",
      "270:\tlearn: 17.6049291\ttotal: 16.1s\tremaining: 43.4s\n",
      "280:\tlearn: 17.3592459\ttotal: 16.8s\tremaining: 43.1s\n",
      "290:\tlearn: 17.0393891\ttotal: 17.4s\tremaining: 42.4s\n",
      "300:\tlearn: 16.7604088\ttotal: 18s\tremaining: 41.9s\n",
      "310:\tlearn: 16.4459570\ttotal: 18.6s\tremaining: 41.3s\n",
      "320:\tlearn: 16.1531879\ttotal: 19.3s\tremaining: 40.9s\n",
      "330:\tlearn: 15.8344587\ttotal: 19.9s\tremaining: 40.3s\n",
      "340:\tlearn: 15.5331255\ttotal: 20.6s\tremaining: 39.8s\n",
      "350:\tlearn: 15.3646483\ttotal: 21.2s\tremaining: 39.2s\n",
      "360:\tlearn: 15.0460194\ttotal: 21.8s\tremaining: 38.6s\n",
      "370:\tlearn: 14.7547814\ttotal: 22.4s\tremaining: 37.9s\n",
      "380:\tlearn: 14.4940311\ttotal: 23s\tremaining: 37.3s\n",
      "390:\tlearn: 14.2201666\ttotal: 23.6s\tremaining: 36.8s\n",
      "400:\tlearn: 13.8855100\ttotal: 24.2s\tremaining: 36.1s\n",
      "410:\tlearn: 13.6734882\ttotal: 24.8s\tremaining: 35.5s\n",
      "420:\tlearn: 13.4020368\ttotal: 25.4s\tremaining: 35s\n",
      "430:\tlearn: 13.1438167\ttotal: 26s\tremaining: 34.4s\n",
      "440:\tlearn: 12.8894951\ttotal: 26.6s\tremaining: 33.8s\n",
      "450:\tlearn: 12.6475912\ttotal: 27.2s\tremaining: 33.2s\n",
      "460:\tlearn: 12.4661871\ttotal: 27.8s\tremaining: 32.5s\n",
      "470:\tlearn: 12.2612798\ttotal: 28.4s\tremaining: 31.9s\n",
      "480:\tlearn: 12.1071011\ttotal: 29.1s\tremaining: 31.4s\n",
      "490:\tlearn: 11.8784281\ttotal: 29.7s\tremaining: 30.8s\n",
      "500:\tlearn: 11.6318503\ttotal: 30.3s\tremaining: 30.2s\n",
      "510:\tlearn: 11.4531854\ttotal: 31s\tremaining: 29.6s\n",
      "520:\tlearn: 11.2446413\ttotal: 31.6s\tremaining: 29s\n",
      "530:\tlearn: 11.0512090\ttotal: 32.2s\tremaining: 28.4s\n",
      "540:\tlearn: 10.8698672\ttotal: 32.8s\tremaining: 27.9s\n",
      "550:\tlearn: 10.7223405\ttotal: 33.4s\tremaining: 27.2s\n",
      "560:\tlearn: 10.5224421\ttotal: 34s\tremaining: 26.6s\n",
      "570:\tlearn: 10.3482679\ttotal: 34.7s\tremaining: 26.1s\n",
      "580:\tlearn: 10.1979600\ttotal: 35.3s\tremaining: 25.5s\n",
      "590:\tlearn: 10.0196990\ttotal: 36s\tremaining: 24.9s\n",
      "600:\tlearn: 9.8217639\ttotal: 36.6s\tremaining: 24.3s\n",
      "610:\tlearn: 9.7089394\ttotal: 37.2s\tremaining: 23.7s\n",
      "620:\tlearn: 9.5596562\ttotal: 37.8s\tremaining: 23.1s\n",
      "630:\tlearn: 9.4066862\ttotal: 38.5s\tremaining: 22.5s\n",
      "640:\tlearn: 9.2504388\ttotal: 39.1s\tremaining: 21.9s\n",
      "650:\tlearn: 9.0999891\ttotal: 39.7s\tremaining: 21.3s\n",
      "660:\tlearn: 8.9955833\ttotal: 40.3s\tremaining: 20.6s\n",
      "670:\tlearn: 8.8287493\ttotal: 41s\tremaining: 20.1s\n",
      "680:\tlearn: 8.7111452\ttotal: 41.5s\tremaining: 19.5s\n",
      "690:\tlearn: 8.6038026\ttotal: 42.2s\tremaining: 18.9s\n",
      "700:\tlearn: 8.4756109\ttotal: 42.8s\tremaining: 18.2s\n",
      "710:\tlearn: 8.3058974\ttotal: 43.3s\tremaining: 17.6s\n",
      "720:\tlearn: 8.1317234\ttotal: 43.9s\tremaining: 17s\n",
      "730:\tlearn: 7.9853269\ttotal: 44.6s\tremaining: 16.4s\n",
      "740:\tlearn: 7.8534319\ttotal: 45.2s\tremaining: 15.8s\n",
      "750:\tlearn: 7.7481126\ttotal: 45.8s\tremaining: 15.2s\n",
      "760:\tlearn: 7.6328547\ttotal: 46.4s\tremaining: 14.6s\n",
      "770:\tlearn: 7.5120515\ttotal: 47s\tremaining: 13.9s\n",
      "780:\tlearn: 7.4021962\ttotal: 47.7s\tremaining: 13.4s\n",
      "790:\tlearn: 7.3202568\ttotal: 48.3s\tremaining: 12.8s\n",
      "800:\tlearn: 7.2195320\ttotal: 48.9s\tremaining: 12.2s\n",
      "810:\tlearn: 7.1181445\ttotal: 49.4s\tremaining: 11.5s\n",
      "820:\tlearn: 7.0225500\ttotal: 50.1s\tremaining: 10.9s\n",
      "830:\tlearn: 6.8910459\ttotal: 50.7s\tremaining: 10.3s\n",
      "840:\tlearn: 6.7805249\ttotal: 51.4s\tremaining: 9.72s\n",
      "850:\tlearn: 6.7119460\ttotal: 52s\tremaining: 9.1s\n",
      "860:\tlearn: 6.6162147\ttotal: 52.6s\tremaining: 8.49s\n",
      "870:\tlearn: 6.5121338\ttotal: 53.2s\tremaining: 7.87s\n",
      "880:\tlearn: 6.4327343\ttotal: 53.7s\tremaining: 7.26s\n",
      "890:\tlearn: 6.3525497\ttotal: 54.3s\tremaining: 6.65s\n",
      "900:\tlearn: 6.2519996\ttotal: 55s\tremaining: 6.05s\n",
      "910:\tlearn: 6.1409549\ttotal: 55.7s\tremaining: 5.44s\n",
      "920:\tlearn: 6.0368691\ttotal: 56.3s\tremaining: 4.83s\n",
      "930:\tlearn: 5.9650424\ttotal: 57s\tremaining: 4.22s\n",
      "940:\tlearn: 5.8842059\ttotal: 57.6s\tremaining: 3.61s\n",
      "950:\tlearn: 5.7976316\ttotal: 58.2s\tremaining: 3s\n",
      "960:\tlearn: 5.6917757\ttotal: 58.9s\tremaining: 2.39s\n",
      "970:\tlearn: 5.6178848\ttotal: 59.5s\tremaining: 1.78s\n",
      "980:\tlearn: 5.5251972\ttotal: 1m\tremaining: 1.16s\n",
      "990:\tlearn: 5.4490366\ttotal: 1m\tremaining: 551ms\n",
      "999:\tlearn: 5.3770742\ttotal: 1m 1s\tremaining: 0us\n",
      " rmse на тренировочной выборке  5.377074190780903\n"
     ]
    }
   ],
   "source": [
    "from catboost import CatBoostRegressor\n",
    "cat = CatBoostRegressor(loss_function='RMSE',  iterations=1000,  depth = 10, learning_rate=0.1, verbose=100)  \n",
    " \n",
    "cat_features = ['Datetime']\n",
    " \n",
    "cat.fit(X_train, y_train, verbose=10) \n",
    " \n",
    "predictions_train = cat.predict(X_train)\n",
    "\n",
    "print( \" rmse на тренировочной выборке \" , mean_squared_error(y_train, predictions_train)**.5)"
   ]
  },
  {
   "cell_type": "markdown",
   "metadata": {},
   "source": [
    "5. LightGBM"
   ]
  },
  {
   "cell_type": "code",
   "execution_count": 23,
   "metadata": {},
   "outputs": [
    {
     "name": "stdout",
     "output_type": "stream",
     "text": [
      "[1]\tvalid_0's l1: 33.8374\tvalid_0's l2: 2054.92\n",
      "Training until validation scores don't improve for 1000 rounds\n",
      "[2]\tvalid_0's l1: 33.0623\tvalid_0's l2: 1963.21\n",
      "[3]\tvalid_0's l1: 32.3298\tvalid_0's l2: 1883.69\n",
      "[4]\tvalid_0's l1: 31.6238\tvalid_0's l2: 1808.4\n",
      "[5]\tvalid_0's l1: 30.9708\tvalid_0's l2: 1740.14\n",
      "[6]\tvalid_0's l1: 30.3326\tvalid_0's l2: 1673.45\n",
      "[7]\tvalid_0's l1: 29.7445\tvalid_0's l2: 1615.28\n",
      "[8]\tvalid_0's l1: 29.1836\tvalid_0's l2: 1558.33\n",
      "[9]\tvalid_0's l1: 28.7102\tvalid_0's l2: 1508.32\n",
      "[10]\tvalid_0's l1: 28.272\tvalid_0's l2: 1465.45\n",
      "[11]\tvalid_0's l1: 27.8331\tvalid_0's l2: 1421.8\n",
      "[12]\tvalid_0's l1: 27.4096\tvalid_0's l2: 1381.72\n",
      "[13]\tvalid_0's l1: 27.0537\tvalid_0's l2: 1344.89\n",
      "[14]\tvalid_0's l1: 26.6984\tvalid_0's l2: 1313.1\n",
      "[15]\tvalid_0's l1: 26.3216\tvalid_0's l2: 1279.24\n",
      "[16]\tvalid_0's l1: 26.0354\tvalid_0's l2: 1251.52\n",
      "[17]\tvalid_0's l1: 25.7617\tvalid_0's l2: 1226.64\n",
      "[18]\tvalid_0's l1: 25.4949\tvalid_0's l2: 1204.35\n",
      "[19]\tvalid_0's l1: 25.311\tvalid_0's l2: 1185.95\n",
      "[20]\tvalid_0's l1: 25.0914\tvalid_0's l2: 1167.4\n",
      "[21]\tvalid_0's l1: 24.859\tvalid_0's l2: 1147.06\n",
      "[22]\tvalid_0's l1: 24.6583\tvalid_0's l2: 1128.97\n",
      "[23]\tvalid_0's l1: 24.4827\tvalid_0's l2: 1113.5\n",
      "[24]\tvalid_0's l1: 24.2836\tvalid_0's l2: 1097.93\n",
      "[25]\tvalid_0's l1: 24.11\tvalid_0's l2: 1085.79\n",
      "[26]\tvalid_0's l1: 23.9515\tvalid_0's l2: 1076.42\n",
      "[27]\tvalid_0's l1: 23.7853\tvalid_0's l2: 1065.94\n",
      "[28]\tvalid_0's l1: 23.6411\tvalid_0's l2: 1056.33\n",
      "[29]\tvalid_0's l1: 23.5192\tvalid_0's l2: 1047.13\n",
      "[30]\tvalid_0's l1: 23.415\tvalid_0's l2: 1039.86\n",
      "[31]\tvalid_0's l1: 23.2396\tvalid_0's l2: 1027.46\n",
      "[32]\tvalid_0's l1: 23.1211\tvalid_0's l2: 1020.98\n",
      "[33]\tvalid_0's l1: 22.9919\tvalid_0's l2: 1011.85\n",
      "[34]\tvalid_0's l1: 22.938\tvalid_0's l2: 1007.81\n",
      "[35]\tvalid_0's l1: 22.9012\tvalid_0's l2: 1002.27\n",
      "[36]\tvalid_0's l1: 22.8483\tvalid_0's l2: 994.775\n",
      "[37]\tvalid_0's l1: 22.7942\tvalid_0's l2: 987.596\n",
      "[38]\tvalid_0's l1: 22.6957\tvalid_0's l2: 981.338\n",
      "[39]\tvalid_0's l1: 22.6134\tvalid_0's l2: 976.466\n",
      "[40]\tvalid_0's l1: 22.5426\tvalid_0's l2: 970.496\n",
      "[41]\tvalid_0's l1: 22.4651\tvalid_0's l2: 964.906\n",
      "[42]\tvalid_0's l1: 22.4523\tvalid_0's l2: 963.759\n",
      "[43]\tvalid_0's l1: 22.4143\tvalid_0's l2: 959.627\n",
      "[44]\tvalid_0's l1: 22.4061\tvalid_0's l2: 958.194\n",
      "[45]\tvalid_0's l1: 22.3955\tvalid_0's l2: 955.6\n",
      "[46]\tvalid_0's l1: 22.3608\tvalid_0's l2: 952.862\n",
      "[47]\tvalid_0's l1: 22.3606\tvalid_0's l2: 952.289\n",
      "[48]\tvalid_0's l1: 22.3404\tvalid_0's l2: 949.044\n",
      "[49]\tvalid_0's l1: 22.3305\tvalid_0's l2: 948.459\n",
      "[50]\tvalid_0's l1: 22.3205\tvalid_0's l2: 947.989\n",
      "[51]\tvalid_0's l1: 22.3132\tvalid_0's l2: 945.772\n",
      "[52]\tvalid_0's l1: 22.2715\tvalid_0's l2: 941.306\n",
      "[53]\tvalid_0's l1: 22.2423\tvalid_0's l2: 937.53\n",
      "[54]\tvalid_0's l1: 22.2604\tvalid_0's l2: 938.412\n",
      "[55]\tvalid_0's l1: 22.2376\tvalid_0's l2: 936.394\n",
      "[56]\tvalid_0's l1: 22.221\tvalid_0's l2: 934.911\n",
      "[57]\tvalid_0's l1: 22.1833\tvalid_0's l2: 932.534\n",
      "[58]\tvalid_0's l1: 22.1821\tvalid_0's l2: 933.257\n",
      "[59]\tvalid_0's l1: 22.1988\tvalid_0's l2: 935.892\n",
      "[60]\tvalid_0's l1: 22.1946\tvalid_0's l2: 933.912\n",
      "[61]\tvalid_0's l1: 22.1922\tvalid_0's l2: 934.212\n",
      "[62]\tvalid_0's l1: 22.1744\tvalid_0's l2: 934.144\n",
      "[63]\tvalid_0's l1: 22.1406\tvalid_0's l2: 932.785\n",
      "[64]\tvalid_0's l1: 22.1554\tvalid_0's l2: 933.526\n",
      "[65]\tvalid_0's l1: 22.1456\tvalid_0's l2: 933.061\n",
      "[66]\tvalid_0's l1: 22.1527\tvalid_0's l2: 931.925\n",
      "[67]\tvalid_0's l1: 22.1625\tvalid_0's l2: 932.066\n",
      "[68]\tvalid_0's l1: 22.1452\tvalid_0's l2: 931.524\n",
      "[69]\tvalid_0's l1: 22.1588\tvalid_0's l2: 932.119\n",
      "[70]\tvalid_0's l1: 22.1407\tvalid_0's l2: 929.061\n",
      "[71]\tvalid_0's l1: 22.1445\tvalid_0's l2: 929.442\n",
      "[72]\tvalid_0's l1: 22.1139\tvalid_0's l2: 930.339\n",
      "[73]\tvalid_0's l1: 22.1221\tvalid_0's l2: 931.119\n",
      "[74]\tvalid_0's l1: 22.111\tvalid_0's l2: 930.022\n",
      "[75]\tvalid_0's l1: 22.1166\tvalid_0's l2: 929.131\n",
      "[76]\tvalid_0's l1: 22.1001\tvalid_0's l2: 929.419\n",
      "[77]\tvalid_0's l1: 22.0895\tvalid_0's l2: 929.006\n",
      "[78]\tvalid_0's l1: 22.09\tvalid_0's l2: 929.938\n",
      "[79]\tvalid_0's l1: 22.0729\tvalid_0's l2: 930.04\n",
      "[80]\tvalid_0's l1: 22.0634\tvalid_0's l2: 930.88\n",
      "[81]\tvalid_0's l1: 22.0657\tvalid_0's l2: 929.39\n",
      "[82]\tvalid_0's l1: 22.0709\tvalid_0's l2: 927.854\n",
      "[83]\tvalid_0's l1: 22.0635\tvalid_0's l2: 929.069\n",
      "[84]\tvalid_0's l1: 22.0478\tvalid_0's l2: 929.215\n",
      "[85]\tvalid_0's l1: 22.0486\tvalid_0's l2: 927.921\n",
      "[86]\tvalid_0's l1: 22.031\tvalid_0's l2: 926.013\n",
      "[87]\tvalid_0's l1: 22.016\tvalid_0's l2: 925.459\n",
      "[88]\tvalid_0's l1: 22.0086\tvalid_0's l2: 924.45\n",
      "[89]\tvalid_0's l1: 22.0071\tvalid_0's l2: 924.195\n",
      "[90]\tvalid_0's l1: 22.0166\tvalid_0's l2: 924.021\n",
      "[91]\tvalid_0's l1: 22.0114\tvalid_0's l2: 924.191\n",
      "[92]\tvalid_0's l1: 21.979\tvalid_0's l2: 924.005\n",
      "[93]\tvalid_0's l1: 22.0122\tvalid_0's l2: 925.331\n",
      "[94]\tvalid_0's l1: 22.0385\tvalid_0's l2: 925.457\n",
      "[95]\tvalid_0's l1: 22.0103\tvalid_0's l2: 923.442\n",
      "[96]\tvalid_0's l1: 22.027\tvalid_0's l2: 923.671\n",
      "[97]\tvalid_0's l1: 22.0418\tvalid_0's l2: 924.752\n",
      "[98]\tvalid_0's l1: 22.0355\tvalid_0's l2: 924.612\n",
      "[99]\tvalid_0's l1: 22.0267\tvalid_0's l2: 924.25\n",
      "[100]\tvalid_0's l1: 22.0334\tvalid_0's l2: 924.803\n",
      "Did not meet early stopping. Best iteration is:\n",
      "[92]\tvalid_0's l1: 21.979\tvalid_0's l2: 924.005\n",
      " rmse на тренировочной выборке  21.435036349876224\n"
     ]
    }
   ],
   "source": [
    "hyper_params = {\n",
    "    \"max_depth\": 20,\n",
    "    \"max_lags\": 57,\n",
    "    \"num_leaves\": 145,\n",
    "    'learning_rate': 0.05,\n",
    "    'feature_fraction': 0.9,\n",
    "    'bagging_fraction': 0.8,\n",
    "    'bagging_freq': 5,\n",
    "    'verbose': 0}\n",
    "    \n",
    "gbm = lgb.LGBMRegressor(**hyper_params)\n",
    "gbm.fit(X_train, y_train,\n",
    "        eval_set=[(X_test, y_test)],\n",
    "        eval_metric='l1',\n",
    "        early_stopping_rounds=1000)\n",
    "predictions_train = gbm.predict(X_train, num_iteration=gbm.best_iteration_)\n",
    "\n",
    "print( \" rmse на тренировочной выборке \" , mean_squared_error(y_train, predictions_train)**.5)"
   ]
  },
  {
   "cell_type": "markdown",
   "metadata": {},
   "source": [
    "Вывод: на тренировочной выборке лучше всего себя показала модель Catboost"
   ]
  },
  {
   "cell_type": "markdown",
   "metadata": {},
   "source": [
    "# 4. Тестирование"
   ]
  },
  {
   "cell_type": "markdown",
   "metadata": {},
   "source": [
    "Дерево решений:"
   ]
  },
  {
   "cell_type": "code",
   "execution_count": 24,
   "metadata": {},
   "outputs": [
    {
     "name": "stdout",
     "output_type": "stream",
     "text": [
      " rmse 31.92632053524737\n",
      "CPU times: user 4.83 ms, sys: 33 µs, total: 4.86 ms\n",
      "Wall time: 3.54 ms\n"
     ]
    }
   ],
   "source": [
    "%%time\n",
    "\n",
    "grid_decision_tree_regression.best_params_\n",
    "\n",
    "predictions_test = grid_decision_tree_regression.predict(X_test)\n",
    "print( \" rmse\" , mean_squared_error(y_test, predictions_test)**.5)"
   ]
  },
  {
   "cell_type": "markdown",
   "metadata": {},
   "source": [
    "Случайный лес:"
   ]
  },
  {
   "cell_type": "code",
   "execution_count": 25,
   "metadata": {},
   "outputs": [
    {
     "name": "stdout",
     "output_type": "stream",
     "text": [
      " rmse на тестовой выборке  31.001847054864697\n",
      "CPU times: user 4.81 ms, sys: 31 µs, total: 4.84 ms\n",
      "Wall time: 4.28 ms\n"
     ]
    }
   ],
   "source": [
    "%%time\n",
    "\n",
    "grid_forest_regression.best_params_\n",
    "\n",
    "predictions_test = grid_forest_regression.predict(X_test)\n",
    "\n",
    "print( \" rmse на тестовой выборке \" , mean_squared_error(y_test, predictions_test)**.5)"
   ]
  },
  {
   "cell_type": "markdown",
   "metadata": {},
   "source": [
    "Линейная регрессия:"
   ]
  },
  {
   "cell_type": "code",
   "execution_count": 26,
   "metadata": {},
   "outputs": [
    {
     "name": "stdout",
     "output_type": "stream",
     "text": [
      " rmse на тестовой выборке  31.493781164889946\n",
      "CPU times: user 2.63 ms, sys: 0 ns, total: 2.63 ms\n",
      "Wall time: 2.27 ms\n"
     ]
    }
   ],
   "source": [
    "%%time\n",
    "\n",
    "predictions_test = linear_model.predict(X_test)\n",
    "\n",
    "print( \" rmse на тестовой выборке \" , mean_squared_error(y_test, predictions_test)**.5)"
   ]
  },
  {
   "cell_type": "markdown",
   "metadata": {},
   "source": [
    "Catboost:"
   ]
  },
  {
   "cell_type": "code",
   "execution_count": 27,
   "metadata": {},
   "outputs": [
    {
     "name": "stdout",
     "output_type": "stream",
     "text": [
      " rmse на тестовой выборке  30.309170746510087\n",
      "CPU times: user 16.4 ms, sys: 0 ns, total: 16.4 ms\n",
      "Wall time: 51.8 ms\n"
     ]
    }
   ],
   "source": [
    "%%time\n",
    " \n",
    "predictions_test = cat.predict(X_test)\n",
    "  \n",
    "print( \" rmse на тестовой выборке \" , mean_squared_error(y_test, predictions_test)**.5)"
   ]
  },
  {
   "cell_type": "markdown",
   "metadata": {},
   "source": [
    "LightGBM"
   ]
  },
  {
   "cell_type": "code",
   "execution_count": 28,
   "metadata": {},
   "outputs": [
    {
     "name": "stdout",
     "output_type": "stream",
     "text": [
      " rmse на тестовой выборке  30.397452739816327\n",
      "CPU times: user 59.3 ms, sys: 0 ns, total: 59.3 ms\n",
      "Wall time: 17.3 ms\n"
     ]
    }
   ],
   "source": [
    "%%time \n",
    "\n",
    "predictions_test = gbm.predict(X_test, num_iteration=gbm.best_iteration_)\n",
    "\n",
    "print( \" rmse на тестовой выборке \" , mean_squared_error(y_test, predictions_test)**.5)"
   ]
  },
  {
   "cell_type": "markdown",
   "metadata": {},
   "source": [
    "Результаты исследования:\n",
    "\n",
    "1. было проведено ресемплирование данных типа datetime\n",
    "\n",
    "2. выделены признаки из столбца datetime для построения моделей\n",
    "\n",
    "3. использованы различные модели машинного обучения: дерево решений, случайный лес, линейная регрессия, Catboost, LightGBM с использованием различных гиперапараметров и без них\n",
    "\n",
    "4. Была выбрана наилучшая модель на основе RMSE -  модель LightGBM или модель Catboost, но время выполнения Catboost наиболее высокое. Все модели удовлетворяют свойству rmse < 48 на тестово выборке, поэтому для того, чтобы выбрать модель в продакшн, необходимо знать, важна ли характеристика времени и нагрузка на CPU."
   ]
  }
 ],
 "metadata": {
  "kernelspec": {
   "display_name": "Python 3",
   "language": "python",
   "name": "python3"
  },
  "language_info": {
   "codemirror_mode": {
    "name": "ipython",
    "version": 3
   },
   "file_extension": ".py",
   "mimetype": "text/x-python",
   "name": "python",
   "nbconvert_exporter": "python",
   "pygments_lexer": "ipython3",
   "version": "3.7.8"
  },
  "toc": {
   "base_numbering": 1,
   "nav_menu": {},
   "number_sections": true,
   "sideBar": true,
   "skip_h1_title": true,
   "title_cell": "Table of Contents",
   "title_sidebar": "Contents",
   "toc_cell": false,
   "toc_position": {},
   "toc_section_display": true,
   "toc_window_display": false
  }
 },
 "nbformat": 4,
 "nbformat_minor": 2
}
